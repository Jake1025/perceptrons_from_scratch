{
 "cells": [
  {
   "cell_type": "markdown",
   "metadata": {},
   "source": [
    "# Chapter 0: Introduction\n",
    "\n",
    "This chapter introduces the reader to a set of mathematical concepts that underly the perceptron."
   ]
  },
  {
   "cell_type": "markdown",
   "metadata": {},
   "source": [
    "## 0.4 Parallel Computation\n",
    "\n",
    "The following is a simple implementation of Minsky's overview of parallel computation. \n",
    "\n",
    "For a function: $$\\Psi(x)$$ \n",
    "\n",
    "we can compute a set of functions: $$\\phi_1(x), \\phi_2(x),...,\\phi_n(x)$$\n",
    "\n",
    "and then combine the results by means of a function for $n$ arguments: $$\\Omega(\\phi_1(x),\\phi_2(x),...,\\phi_n(x))$$ \n",
    "\n",
    "Minsky suggests that retstrictions must be placed on the definitions of $\\Omega$ and the set of $\\Phi$ functions such to avoid instances such as setting $\\phi_1(x) = \\Psi$ and letting $\\phi_2(x),...,\\phi_n(x) = 0$"
   ]
  }
 ],
 "metadata": {
  "kernelspec": {
   "display_name": "venv (3.13.2)",
   "language": "python",
   "name": "python3"
  },
  "language_info": {
   "name": "python",
   "version": "3.13.2"
  }
 },
 "nbformat": 4,
 "nbformat_minor": 2
}
