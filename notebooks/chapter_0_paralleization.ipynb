{
 "cells": [
  {
   "cell_type": "markdown",
   "metadata": {},
   "source": [
    "# Chapter 0: Introduction\n",
    "\n",
    "This chapter introduces the reader to a set of mathematical concepts that underly the perceptron."
   ]
  },
  {
   "cell_type": "markdown",
   "metadata": {},
   "source": [
    "## 0.4 Parallel Computation\n",
    "\n",
    "The following is a simple implementation of Minsky's overview of parallel computation. \n",
    "\n",
    "For a function: $$\\Psi(x)$$ \n",
    "\n",
    "we can compute a set of functions: $$\\phi_1(x), \\phi_2(x),...,\\phi_n(x)$$\n",
    "\n",
    "and then combine the results by means of a function for $n$ arguments: $$\\Omega(\\phi_1(x),\\phi_2(x),...,\\phi_n(x))$$ \n",
    "\n",
    "Minsky suggests that retstrictions must be placed on the definitions of $\\Omega$ and the set of $\\Phi$ functions such to avoid instances such as setting $\\phi_1(x) = \\Psi$ and letting $\\phi_2(x),...,\\phi_n(x) = 0$\n",
    "\n",
    "To follow Minsky's example we will create a paralleizable function for determining if a the shape created by a series of points is convex."
   ]
  },
  {
   "cell_type": "markdown",
   "metadata": {},
   "source": [
    "#### Implementing the Grid\n",
    "\n",
    "The first step is to determine the structure for the list of points that will make up a shape, and graph them to be sure we are properly representing our desired shape."
   ]
  },
  {
   "cell_type": "code",
   "execution_count": 3,
   "metadata": {},
   "outputs": [
    {
     "name": "stdout",
     "output_type": "stream",
     "text": [
      "0: [0, 1]\n",
      "i+1: [1, 1]\n",
      "1: [1, 1]\n",
      "i+1: [1, 0]\n",
      "2: [1, 0]\n",
      "i+1: [0, 0]\n",
      "3: [0, 0]\n",
      "i[o]: [0, 1]\n"
     ]
    },
    {
     "data": {
      "image/png": "[encoded data removed]",
      "text/plain": [
       "<Figure size 640x480 with 1 Axes>"
      ]
     },
     "metadata": {},
     "output_type": "display_data"
    }
   ],
   "source": [
    "import matplotlib.pyplot as plt\n",
    "\n",
    "convex_shape = [[0,1],[1,1],[1,0],[0,0]]\n",
    "concave_shape = [[0,1],[1,1],[1,0],[0,0],[0.5,0.5]]\n",
    "\n",
    "shape = convex_shape\n",
    "\n",
    "for i in range(len(shape)):\n",
    "    print(f'{i}: {shape[i]}')\n",
    "    plt.scatter(shape[i][0], shape[i][1])\n",
    "    if i + 1 < len(shape):\n",
    "        plt.plot([shape[i][0], shape[i+1][0]], [shape[i][1], shape[i+1][1]])\n",
    "        print(f'i+1: {shape[i+1]}')\n",
    "    else:\n",
    "        plt.plot([shape[i][0], shape[0][0]], [shape[i][1], shape[0][1]])\n",
    "        print(f'i[o]: {shape[0]}')\n",
    "\n",
    "plt.show()"
   ]
  },
  {
   "cell_type": "markdown",
   "metadata": {},
   "source": [
    "### Testing Convexity of the Shape\n",
    "\n",
    "Now that we have defined our polygon with points, lets create a function that can check if it is convex.\n",
    "\n",
    "We know that a polygon is convex if every internal angle is less than $180^\\circ$\n",
    "\n",
    "We have defined our shape as consisting of ordered points $P_n$ points containing a 2D coordinate $(x_n, y_n)$ such that the points connect and wrap back around as follows: $$P_0 \\rarr P_1, P_1 \\rarr P_2,..., P_n \\rarr P_0$$\n",
    "\n",
    "For each triplet of points $A = P_i, B = P_{i+1}, and C = P_{i+2}$ we define two vectors: $$\\vec{AB} = B - A = (x_2 - x_1, y_2 - y_1)$$ $$\\vec{BC} = C - B = (x_3 - x_2, y_3 - y_2)$$\n",
    "\n",
    "We can then compute the cross product of the vectors $\\vec{AB}$ and $\\vec{BC}$: \n",
    "$$\\vec{AB} = (AB_x, AB_y)$$ \n",
    "$$\\vec{BC} = (BC_x, BC_y)$$ \n",
    "$$ \\vec{AB} \\times \\vec{BC} = AB_x \\cdot BC_y - AB_y \\cdot BC_x $$\n",
    "\n",
    "For a set of computed cross products $Cross_n$ if all cross products are of an equal sign (or zero) we have determined the shape to be convex.\n",
    "\n",
    "The following implementation checks if a shape is convex as described:"
   ]
  },
  {
   "cell_type": "code",
   "execution_count": null,
   "metadata": {},
   "outputs": [
    {
     "name": "stdout",
     "output_type": "stream",
     "text": [
      "{np.float64(1.0), np.float64(-1.0)}\n",
      "Concave\n"
     ]
    },
    {
     "name": "stderr",
     "output_type": "stream",
     "text": [
      "C:\\Users\\jmcke\\AppData\\Local\\Temp\\ipykernel_23868\\4010885267.py:22: DeprecationWarning: Arrays of 2-dimensional vectors are deprecated. Use arrays of 3-dimensional vectors instead. (deprecated in NumPy 2.0)\n",
      "  CR = np.cross(AB, BC)\n"
     ]
    }
   ],
   "source": [
    "import numpy as np\n",
    "\n",
    "shape = concave_shape\n",
    "signs = set()\n",
    "\n",
    "for i in range(len(shape)):\n",
    "    A = shape[i]\n",
    "    \n",
    "    if i + 1 < len(shape):\n",
    "        B = shape[i+1]\n",
    "        if i + 2 < len(shape):\n",
    "            C = shape[i+2]\n",
    "        else:\n",
    "            C = shape[0]\n",
    "    else:\n",
    "        B = shape[0]\n",
    "        C = shape[1]\n",
    "\n",
    "    AB = [B[0] - A[0], B[1] - A[1]]\n",
    "    BC = [C[0] - B[0], C[1] - B[1]]\n",
    "\n",
    "    CR = np.cross(AB, BC)\n",
    "\n",
    "    signs.add(np.float64(np.sign(CR)))\n",
    "\n",
    "print(signs)\n",
    "if len(signs) == 1:\n",
    "    print(\"Convex\")\n",
    "else:\n",
    "    print(\"Concave\")\n"
   ]
  },
  {
   "cell_type": "markdown",
   "metadata": {},
   "source": [
    "#### Result: \n",
    "\n",
    "We can see that if there are multiple items in the set then the signs are not all equal. Conversely if the set length is equal to one, we have proven the shape to be convex."
   ]
  },
  {
   "cell_type": "markdown",
   "metadata": {},
   "source": [
    "### Paralleization \n",
    "\n",
    "In complex cases we may want to split up the process of computing the cross product over a set of computing threads to increase efficency. To this end, we must break down the mathematical process of proving convexity into a set of subprocesses that can be distributed, then recombined for the final result. Comparing the signs of cross products works nicely in this example because the operations are entirely independent. We just want to know if any of the results do not match, we don't necessarity care about *what* the result is. \n",
    "We can can represent the basis for this split computation as follows, based on Minsky's original formulas:\n",
    "\n",
    "For our convex function: $$\\Psi(x)$$ \n",
    "\n",
    "We can compute a set of functions for each subdivision of triplet point pairs: $$\\phi_1(x), \\phi_2(x),...,\\phi_n(x)$$\n",
    "\n",
    "and then combine the results by means of a function $\\Omega$ that checks if all results match for $n$ arguments: $$\\Omega(\\phi_1(x),\\phi_2(x),...,\\phi_n(x))$$ \n",
    "\n",
    "##### Assignment\n",
    "\n",
    "We abide by Minsky's restrictions for the definitions of $\\Omega$ and the set of $\\Phi$ functions by allocating the triplet pairs evenly amongst $k$ subprocesses using the following function:\n",
    "\n",
    "Let $m$ equal the total number of triplet pairs of verticies, and $k$ equal the number of subprocesses:\n",
    "\n",
    "$$q = \\frac{m}{k}, \\quad r = m, \\mod k$$\n",
    "\n",
    "Where $q$ is the number of triplets each subproceess is allocated, and $r$ is the remaining number of triples to distribute.\n",
    "\n",
    "Each subprocess $S_i$ is then assinged:\n",
    "\n",
    "$$\n",
    "\\text{Triplets}_i = \n",
    "\\begin{cases}\n",
    "q + 1 & \\text{if } i \\lt r \\\\\n",
    "q & \\text{if } i \\ge r\n",
    "\\end{cases}\n",
    "$$\n",
    "\n",
    "##### Subproceeses\n",
    "\n",
    "$$\n",
    "\\phi_i(x) = \\text{sign}((P_{3i+1} - P_{3i}) \\times (P_{3i+2} - P_{3i+1}))\n",
    "$$\n",
    "\n",
    "Where each $\\phi_i$ evaluates the cross product of a specific triplet in the ordered point sequence. These $\\phi_i$ functions are **independent** and can be computed in parallel.\n",
    "\n",
    "The result of each $\\phi_i(x)$ is an integer: either $-1$, $0$, or $1$, representing a right turn, colinearity, or a left turn, respectively.\n",
    "\n",
    "We then define a final combination function $\\Omega$:\n",
    "\n",
    "$$\n",
    "\\Omega(\\phi_1(x), \\phi_2(x), ..., \\phi_n(x)) =\n",
    "\\begin{cases}\n",
    "1 & \\text{if all } \\phi_i(x) \\text{ have the same non-zero sign} \\\\\n",
    "0 & \\text{otherwise}\n",
    "\\end{cases}\n",
    "$$\n",
    "\n",
    "This $\\Omega$ function determines the convexity of the entire polygonal shape:  \n",
    "- If the sign remains consistent across all triplets, the shape is convex.  \n",
    "- If even one $\\phi_i$ deviates in sign, or becomes zero (under a strict definition), the shape is not convex.\n",
    "\n",
    "In this way, the evaluation of convexity is restructured into a form suitable for parallel execution:  \n",
    "- **Each $\\phi_i$ can be computed in a separate thread**  \n",
    "- The combination step via $\\Omega$ becomes a **reduction operation** (e.g., checking if all values are equal)\n",
    "\n",
    "This mirrors Minsky's idea of parallelizing logical predicates across a structured input space and recombining them using logical or arithmetic operators — a foundational idea behind perceptron behavior and more broadly, parallel computation in intelligent systems.\n"
   ]
  }
 ],
 "metadata": {
  "kernelspec": {
   "display_name": "Python 3",
   "language": "python",
   "name": "python3"
  },
  "language_info": {
   "codemirror_mode": {
    "name": "ipython",
    "version": 3
   },
   "file_extension": ".py",
   "mimetype": "text/x-python",
   "name": "python",
   "nbconvert_exporter": "python",
   "pygments_lexer": "ipython3",
   "version": "3.13.1"
  }
 },
 "nbformat": 4,
 "nbformat_minor": 2
}
